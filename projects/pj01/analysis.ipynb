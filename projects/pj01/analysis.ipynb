{
 "cells": [
  {
   "cell_type": "markdown",
   "metadata": {},
   "source": [
    "# PJ01 Choose Your Own Analysis\n",
    "\n",
    "Hypothesis: I think student who have taken another an AP computer science class (AP CS or AP A) will find COMP110 to be easier ( < 4 )."
   ]
  },
  {
   "cell_type": "code",
   "execution_count": 1,
   "metadata": {},
   "outputs": [],
   "source": [
    "%reload_ext autoreload\n",
    "%autoreload 2"
   ]
  },
  {
   "cell_type": "markdown",
   "metadata": {},
   "source": [
    "First I will read in the csv and convert it to a column-oriented data table."
   ]
  },
  {
   "cell_type": "code",
   "execution_count": 2,
   "metadata": {},
   "outputs": [],
   "source": [
    "from data_utils import read_csv_rows, columnar\n",
    "\n",
    "data_rows: list[dict[str, str]] = read_csv_rows('../../data/survey.csv')\n",
    "columns: dict[str, list[str]] = columnar(data_rows)"
   ]
  },
  {
   "cell_type": "markdown",
   "metadata": {},
   "source": [
    "Next, I will select the 'AP_A', 'AP_Principles', and difficulty columns. I've included the first 6 rows."
   ]
  },
  {
   "cell_type": "code",
   "execution_count": 92,
   "metadata": {},
   "outputs": [
    {
     "data": {
      "text/html": [
       "<table>\n",
       "<thead>\n",
       "<tr><th>AP_A  </th><th>AP_Principles  </th><th style=\"text-align: right;\">  difficulty</th></tr>\n",
       "</thead>\n",
       "<tbody>\n",
       "<tr><td>      </td><td>               </td><td style=\"text-align: right;\">           5</td></tr>\n",
       "<tr><td>      </td><td>               </td><td style=\"text-align: right;\">           3</td></tr>\n",
       "<tr><td>      </td><td>               </td><td style=\"text-align: right;\">           5</td></tr>\n",
       "<tr><td>      </td><td>               </td><td style=\"text-align: right;\">           6</td></tr>\n",
       "<tr><td>      </td><td>               </td><td style=\"text-align: right;\">           4</td></tr>\n",
       "<tr><td>Yes   </td><td>Yes            </td><td style=\"text-align: right;\">           5</td></tr>\n",
       "</tbody>\n",
       "</table>"
      ],
      "text/plain": [
       "'<table>\\n<thead>\\n<tr><th>AP_A  </th><th>AP_Principles  </th><th style=\"text-align: right;\">  difficulty</th></tr>\\n</thead>\\n<tbody>\\n<tr><td>      </td><td>               </td><td style=\"text-align: right;\">           5</td></tr>\\n<tr><td>      </td><td>               </td><td style=\"text-align: right;\">           3</td></tr>\\n<tr><td>      </td><td>               </td><td style=\"text-align: right;\">           5</td></tr>\\n<tr><td>      </td><td>               </td><td style=\"text-align: right;\">           6</td></tr>\\n<tr><td>      </td><td>               </td><td style=\"text-align: right;\">           4</td></tr>\\n<tr><td>Yes   </td><td>Yes            </td><td style=\"text-align: right;\">           5</td></tr>\\n</tbody>\\n</table>'"
      ]
     },
     "execution_count": 92,
     "metadata": {},
     "output_type": "execute_result"
    }
   ],
   "source": [
    "from data_utils import head, select, cs_course_response\n",
    "from tabulate import tabulate\n",
    "\n",
    "subset: dict[str, list[str]] = select(columns, [\"AP_A\", \"AP_Principles\", \"difficulty\"])\n",
    "\n",
    "tabulate(head(subset, 6), subset.keys(), \"html\")"
   ]
  },
  {
   "cell_type": "markdown",
   "metadata": {},
   "source": [
    "Since the AP columns correspond to optional question, there are a lot of blank spaces. I'm going to create a new table where in every row, at least one of the answers is \"yes.\""
   ]
  },
  {
   "cell_type": "code",
   "execution_count": 105,
   "metadata": {},
   "outputs": [
    {
     "data": {
      "text/html": [
       "<table>\n",
       "<thead>\n",
       "<tr><th>AP_A  </th><th>AP_Principles  </th><th style=\"text-align: right;\">  difficulty</th></tr>\n",
       "</thead>\n",
       "<tbody>\n",
       "<tr><td>Yes   </td><td>Yes            </td><td style=\"text-align: right;\">           5</td></tr>\n",
       "<tr><td>No    </td><td>Yes            </td><td style=\"text-align: right;\">           4</td></tr>\n",
       "<tr><td>No    </td><td>Yes            </td><td style=\"text-align: right;\">           3</td></tr>\n",
       "<tr><td>No    </td><td>Yes            </td><td style=\"text-align: right;\">           7</td></tr>\n",
       "<tr><td>No    </td><td>Yes            </td><td style=\"text-align: right;\">           5</td></tr>\n",
       "<tr><td>Yes   </td><td>No             </td><td style=\"text-align: right;\">           4</td></tr>\n",
       "<tr><td>No    </td><td>Yes            </td><td style=\"text-align: right;\">           4</td></tr>\n",
       "<tr><td>Yes   </td><td>No             </td><td style=\"text-align: right;\">           2</td></tr>\n",
       "<tr><td>No    </td><td>Yes            </td><td style=\"text-align: right;\">           4</td></tr>\n",
       "<tr><td>Yes   </td><td>No             </td><td style=\"text-align: right;\">           4</td></tr>\n",
       "<tr><td>No    </td><td>Yes            </td><td style=\"text-align: right;\">           6</td></tr>\n",
       "<tr><td>Yes   </td><td>No             </td><td style=\"text-align: right;\">           4</td></tr>\n",
       "<tr><td>Yes   </td><td>Yes            </td><td style=\"text-align: right;\">           3</td></tr>\n",
       "<tr><td>No    </td><td>Yes            </td><td style=\"text-align: right;\">           3</td></tr>\n",
       "<tr><td>No    </td><td>Yes            </td><td style=\"text-align: right;\">           4</td></tr>\n",
       "<tr><td>Yes   </td><td>No             </td><td style=\"text-align: right;\">           3</td></tr>\n",
       "<tr><td>Yes   </td><td>Yes            </td><td style=\"text-align: right;\">           4</td></tr>\n",
       "<tr><td>Yes   </td><td>No             </td><td style=\"text-align: right;\">           5</td></tr>\n",
       "<tr><td>Yes   </td><td>No             </td><td style=\"text-align: right;\">           4</td></tr>\n",
       "<tr><td>Yes   </td><td>Yes            </td><td style=\"text-align: right;\">           4</td></tr>\n",
       "<tr><td>No    </td><td>Yes            </td><td style=\"text-align: right;\">           2</td></tr>\n",
       "<tr><td>Yes   </td><td>Yes            </td><td style=\"text-align: right;\">           1</td></tr>\n",
       "<tr><td>Yes   </td><td>Yes            </td><td style=\"text-align: right;\">           3</td></tr>\n",
       "<tr><td>Yes   </td><td>No             </td><td style=\"text-align: right;\">           3</td></tr>\n",
       "<tr><td>Yes   </td><td>Yes            </td><td style=\"text-align: right;\">           3</td></tr>\n",
       "<tr><td>Yes   </td><td>Yes            </td><td style=\"text-align: right;\">           3</td></tr>\n",
       "<tr><td>Yes   </td><td>No             </td><td style=\"text-align: right;\">           4</td></tr>\n",
       "<tr><td>No    </td><td>Yes            </td><td style=\"text-align: right;\">           2</td></tr>\n",
       "<tr><td>Yes   </td><td>Yes            </td><td style=\"text-align: right;\">           1</td></tr>\n",
       "<tr><td>Yes   </td><td>No             </td><td style=\"text-align: right;\">           4</td></tr>\n",
       "<tr><td>Yes   </td><td>Yes            </td><td style=\"text-align: right;\">           2</td></tr>\n",
       "<tr><td>Yes   </td><td>No             </td><td style=\"text-align: right;\">           3</td></tr>\n",
       "<tr><td>No    </td><td>Yes            </td><td style=\"text-align: right;\">           5</td></tr>\n",
       "<tr><td>Yes   </td><td>Yes            </td><td style=\"text-align: right;\">           2</td></tr>\n",
       "<tr><td>No    </td><td>Yes            </td><td style=\"text-align: right;\">           3</td></tr>\n",
       "<tr><td>Yes   </td><td>Yes            </td><td style=\"text-align: right;\">           1</td></tr>\n",
       "<tr><td>Yes   </td><td>Yes            </td><td style=\"text-align: right;\">           4</td></tr>\n",
       "<tr><td>Yes   </td><td>No             </td><td style=\"text-align: right;\">           4</td></tr>\n",
       "<tr><td>No    </td><td>Yes            </td><td style=\"text-align: right;\">           5</td></tr>\n",
       "<tr><td>Yes   </td><td>No             </td><td style=\"text-align: right;\">           4</td></tr>\n",
       "<tr><td>Yes   </td><td>No             </td><td style=\"text-align: right;\">           4</td></tr>\n",
       "<tr><td>Yes   </td><td>Yes            </td><td style=\"text-align: right;\">           4</td></tr>\n",
       "<tr><td>No    </td><td>Yes            </td><td style=\"text-align: right;\">           3</td></tr>\n",
       "<tr><td>No    </td><td>Yes            </td><td style=\"text-align: right;\">           3</td></tr>\n",
       "<tr><td>Yes   </td><td>No             </td><td style=\"text-align: right;\">           4</td></tr>\n",
       "<tr><td>Yes   </td><td>No             </td><td style=\"text-align: right;\">           3</td></tr>\n",
       "<tr><td>No    </td><td>Yes            </td><td style=\"text-align: right;\">           5</td></tr>\n",
       "<tr><td>Yes   </td><td>Yes            </td><td style=\"text-align: right;\">           3</td></tr>\n",
       "<tr><td>No    </td><td>Yes            </td><td style=\"text-align: right;\">           5</td></tr>\n",
       "<tr><td>Yes   </td><td>No             </td><td style=\"text-align: right;\">           7</td></tr>\n",
       "<tr><td>No    </td><td>Yes            </td><td style=\"text-align: right;\">           2</td></tr>\n",
       "<tr><td>No    </td><td>Yes            </td><td style=\"text-align: right;\">           2</td></tr>\n",
       "<tr><td>No    </td><td>Yes            </td><td style=\"text-align: right;\">           2</td></tr>\n",
       "<tr><td>No    </td><td>Yes            </td><td style=\"text-align: right;\">           5</td></tr>\n",
       "<tr><td>Yes   </td><td>No             </td><td style=\"text-align: right;\">           3</td></tr>\n",
       "<tr><td>No    </td><td>Yes            </td><td style=\"text-align: right;\">           5</td></tr>\n",
       "<tr><td>Yes   </td><td>No             </td><td style=\"text-align: right;\">           2</td></tr>\n",
       "<tr><td>No    </td><td>Yes            </td><td style=\"text-align: right;\">           4</td></tr>\n",
       "<tr><td>No    </td><td>Yes            </td><td style=\"text-align: right;\">           4</td></tr>\n",
       "<tr><td>Yes   </td><td>Yes            </td><td style=\"text-align: right;\">           4</td></tr>\n",
       "<tr><td>No    </td><td>Yes            </td><td style=\"text-align: right;\">           5</td></tr>\n",
       "<tr><td>No    </td><td>Yes            </td><td style=\"text-align: right;\">           5</td></tr>\n",
       "<tr><td>No    </td><td>Yes            </td><td style=\"text-align: right;\">           6</td></tr>\n",
       "<tr><td>No    </td><td>Yes            </td><td style=\"text-align: right;\">           5</td></tr>\n",
       "<tr><td>No    </td><td>Yes            </td><td style=\"text-align: right;\">           4</td></tr>\n",
       "</tbody>\n",
       "</table>"
      ],
      "text/plain": [
       "'<table>\\n<thead>\\n<tr><th>AP_A  </th><th>AP_Principles  </th><th style=\"text-align: right;\">  difficulty</th></tr>\\n</thead>\\n<tbody>\\n<tr><td>Yes   </td><td>Yes            </td><td style=\"text-align: right;\">           5</td></tr>\\n<tr><td>No    </td><td>Yes            </td><td style=\"text-align: right;\">           4</td></tr>\\n<tr><td>No    </td><td>Yes            </td><td style=\"text-align: right;\">           3</td></tr>\\n<tr><td>No    </td><td>Yes            </td><td style=\"text-align: right;\">           7</td></tr>\\n<tr><td>No    </td><td>Yes            </td><td style=\"text-align: right;\">           5</td></tr>\\n<tr><td>Yes   </td><td>No             </td><td style=\"text-align: right;\">           4</td></tr>\\n<tr><td>No    </td><td>Yes            </td><td style=\"text-align: right;\">           4</td></tr>\\n<tr><td>Yes   </td><td>No             </td><td style=\"text-align: right;\">           2</td></tr>\\n<tr><td>No    </td><td>Yes            </td><td style=\"text-align: right;\">           4</td></tr>\\n<tr><td>Yes   </td><td>No             </td><td style=\"text-align: right;\">           4</td></tr>\\n<tr><td>No    </td><td>Yes            </td><td style=\"text-align: right;\">           6</td></tr>\\n<tr><td>Yes   </td><td>No             </td><td style=\"text-align: right;\">           4</td></tr>\\n<tr><td>Yes   </td><td>Yes            </td><td style=\"text-align: right;\">           3</td></tr>\\n<tr><td>No    </td><td>Yes            </td><td style=\"text-align: right;\">           3</td></tr>\\n<tr><td>No    </td><td>Yes            </td><td style=\"text-align: right;\">           4</td></tr>\\n<tr><td>Yes   </td><td>No             </td><td style=\"text-align: right;\">           3</td></tr>\\n<tr><td>Yes   </td><td>Yes            </td><td style=\"text-align: right;\">           4</td></tr>\\n<tr><td>Yes   </td><td>No             </td><td style=\"text-align: right;\">           5</td></tr>\\n<tr><td>Yes   </td><td>No             </td><td style=\"text-align: right;\">           4</td></tr>\\n<tr><td>Yes   </td><td>Yes            </td><td style=\"text-align: right;\">           4</td></tr>\\n<tr><td>No    </td><td>Yes            </td><td style=\"text-align: right;\">           2</td></tr>\\n<tr><td>Yes   </td><td>Yes            </td><td style=\"text-align: right;\">           1</td></tr>\\n<tr><td>Yes   </td><td>Yes            </td><td style=\"text-align: right;\">           3</td></tr>\\n<tr><td>Yes   </td><td>No             </td><td style=\"text-align: right;\">           3</td></tr>\\n<tr><td>Yes   </td><td>Yes            </td><td style=\"text-align: right;\">           3</td></tr>\\n<tr><td>Yes   </td><td>Yes            </td><td style=\"text-align: right;\">           3</td></tr>\\n<tr><td>Yes   </td><td>No             </td><td style=\"text-align: right;\">           4</td></tr>\\n<tr><td>No    </td><td>Yes            </td><td style=\"text-align: right;\">           2</td></tr>\\n<tr><td>Yes   </td><td>Yes            </td><td style=\"text-align: right;\">           1</td></tr>\\n<tr><td>Yes   </td><td>No             </td><td style=\"text-align: right;\">           4</td></tr>\\n<tr><td>Yes   </td><td>Yes            </td><td style=\"text-align: right;\">           2</td></tr>\\n<tr><td>Yes   </td><td>No             </td><td style=\"text-align: right;\">           3</td></tr>\\n<tr><td>No    </td><td>Yes            </td><td style=\"text-align: right;\">           5</td></tr>\\n<tr><td>Yes   </td><td>Yes            </td><td style=\"text-align: right;\">           2</td></tr>\\n<tr><td>No    </td><td>Yes            </td><td style=\"text-align: right;\">           3</td></tr>\\n<tr><td>Yes   </td><td>Yes            </td><td style=\"text-align: right;\">           1</td></tr>\\n<tr><td>Yes   </td><td>Yes            </td><td style=\"text-align: right;\">           4</td></tr>\\n<tr><td>Yes   </td><td>No             </td><td style=\"text-align: right;\">           4</td></tr>\\n<tr><td>No    </td><td>Yes            </td><td style=\"text-align: right;\">           5</td></tr>\\n<tr><td>Yes   </td><td>No             </td><td style=\"text-align: right;\">           4</td></tr>\\n<tr><td>Yes   </td><td>No             </td><td style=\"text-align: right;\">           4</td></tr>\\n<tr><td>Yes   </td><td>Yes            </td><td style=\"text-align: right;\">           4</td></tr>\\n<tr><td>No    </td><td>Yes            </td><td style=\"text-align: right;\">           3</td></tr>\\n<tr><td>No    </td><td>Yes            </td><td style=\"text-align: right;\">           3</td></tr>\\n<tr><td>Yes   </td><td>No             </td><td style=\"text-align: right;\">           4</td></tr>\\n<tr><td>Yes   </td><td>No             </td><td style=\"text-align: right;\">           3</td></tr>\\n<tr><td>No    </td><td>Yes            </td><td style=\"text-align: right;\">           5</td></tr>\\n<tr><td>Yes   </td><td>Yes            </td><td style=\"text-align: right;\">           3</td></tr>\\n<tr><td>No    </td><td>Yes            </td><td style=\"text-align: right;\">           5</td></tr>\\n<tr><td>Yes   </td><td>No             </td><td style=\"text-align: right;\">           7</td></tr>\\n<tr><td>No    </td><td>Yes            </td><td style=\"text-align: right;\">           2</td></tr>\\n<tr><td>No    </td><td>Yes            </td><td style=\"text-align: right;\">           2</td></tr>\\n<tr><td>No    </td><td>Yes            </td><td style=\"text-align: right;\">           2</td></tr>\\n<tr><td>No    </td><td>Yes            </td><td style=\"text-align: right;\">           5</td></tr>\\n<tr><td>Yes   </td><td>No             </td><td style=\"text-align: right;\">           3</td></tr>\\n<tr><td>No    </td><td>Yes            </td><td style=\"text-align: right;\">           5</td></tr>\\n<tr><td>Yes   </td><td>No             </td><td style=\"text-align: right;\">           2</td></tr>\\n<tr><td>No    </td><td>Yes            </td><td style=\"text-align: right;\">           4</td></tr>\\n<tr><td>No    </td><td>Yes            </td><td style=\"text-align: right;\">           4</td></tr>\\n<tr><td>Yes   </td><td>Yes            </td><td style=\"text-align: right;\">           4</td></tr>\\n<tr><td>No    </td><td>Yes            </td><td style=\"text-align: right;\">           5</td></tr>\\n<tr><td>No    </td><td>Yes            </td><td style=\"text-align: right;\">           5</td></tr>\\n<tr><td>No    </td><td>Yes            </td><td style=\"text-align: right;\">           6</td></tr>\\n<tr><td>No    </td><td>Yes            </td><td style=\"text-align: right;\">           5</td></tr>\\n<tr><td>No    </td><td>Yes            </td><td style=\"text-align: right;\">           4</td></tr>\\n</tbody>\\n</table>'"
      ]
     },
     "execution_count": 105,
     "metadata": {},
     "output_type": "execute_result"
    }
   ],
   "source": [
    "from data_utils import cs_course_response\n",
    "\n",
    "cs_subset: dict[str, list[str]] = cs_course_response(subset, \"Yes\")\n",
    "\n",
    "tabulate(cs_subset, cs_subset.keys(), \"html\")"
   ]
  },
  {
   "cell_type": "markdown",
   "metadata": {},
   "source": [
    "Finallly, I will count how many responses are rated < 4."
   ]
  },
  {
   "cell_type": "code",
   "execution_count": 115,
   "metadata": {},
   "outputs": [
    {
     "name": "stdout",
     "output_type": "stream",
     "text": [
      "1 = very easy\n",
      "7 = very hard\n",
      "Of the students 66 that took an AP course, 27 students rate COMP110 a 3 or below\n"
     ]
    }
   ],
   "source": [
    "from data_utils import count\n",
    "\n",
    "counts_difficulty = count(cs_subset['difficulty'])\n",
    "\n",
    "print(\"1 = very easy\")\n",
    "print(\"7 = very hard\")\n",
    "print(f\"Of the students {len(cs_subset['difficulty']) + 1} that took an AP course, {counts_difficulty['1'] + counts_difficulty['2'] + counts_difficulty['3']} students rate COMP110 a 3 or below\")"
   ]
  },
  {
   "cell_type": "markdown",
   "metadata": {},
   "source": [
    "# Conclusion\n",
    "In conclusion, less then half of the students rated COMP110 a 3 or less in terms of difficulty. I personally did not take these AP classes so I do not know how the difficulty or material compares to this class."
   ]
  }
 ],
 "metadata": {
  "interpreter": {
   "hash": "aee8b7b246df8f9039afb4144a1f6fd8d2ca17a180786b69acc140d282b71a49"
  },
  "kernelspec": {
   "display_name": "Python 3.9.6 64-bit",
   "name": "python3"
  },
  "language_info": {
   "codemirror_mode": {
    "name": "ipython",
    "version": 3
   },
   "file_extension": ".py",
   "mimetype": "text/x-python",
   "name": "python",
   "nbconvert_exporter": "python",
   "pygments_lexer": "ipython3",
   "version": "3.9.6"
  },
  "orig_nbformat": 4
 },
 "nbformat": 4,
 "nbformat_minor": 2
}
