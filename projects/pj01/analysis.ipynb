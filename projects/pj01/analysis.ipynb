{
 "cells": [
  {
   "cell_type": "markdown",
   "metadata": {},
   "source": [
    "# PJ01 Choose Your Own Analysis\n",
    "\n",
    "Hypothesis: I think most students who have taken another AP computer science class (AP CS or AP A) will find COMP110 to be easier ( < 4 )."
   ]
  },
  {
   "cell_type": "code",
   "execution_count": 9,
   "metadata": {},
   "outputs": [],
   "source": [
    "%reload_ext autoreload\n",
    "%autoreload 2"
   ]
  },
  {
   "cell_type": "markdown",
   "metadata": {},
   "source": [
    "First I will read in the csv and convert it to a column-oriented data table."
   ]
  },
  {
   "cell_type": "code",
   "execution_count": 10,
   "metadata": {},
   "outputs": [],
   "source": [
    "from data_utils import read_csv_rows, columnar\n",
    "\n",
    "data_rows: list[dict[str, str]] = read_csv_rows('../../data/survey.csv')\n",
    "columns: dict[str, list[str]] = columnar(data_rows)"
   ]
  },
  {
   "cell_type": "markdown",
   "metadata": {},
   "source": [
    "Next, since I am focusing on AP classes in relation to COMP110 difficulty, I will select the 'AP_A', 'AP_Principles', and difficulty columns. I've included the first 6 rows."
   ]
  },
  {
   "cell_type": "code",
   "execution_count": 11,
   "metadata": {},
   "outputs": [
    {
     "data": {
      "text/html": [
       "<table>\n",
       "<thead>\n",
       "<tr><th>AP_A  </th><th>AP_Principles  </th><th style=\"text-align: right;\">  difficulty</th></tr>\n",
       "</thead>\n",
       "<tbody>\n",
       "<tr><td>      </td><td>               </td><td style=\"text-align: right;\">           5</td></tr>\n",
       "<tr><td>      </td><td>               </td><td style=\"text-align: right;\">           3</td></tr>\n",
       "<tr><td>      </td><td>               </td><td style=\"text-align: right;\">           5</td></tr>\n",
       "<tr><td>      </td><td>               </td><td style=\"text-align: right;\">           6</td></tr>\n",
       "<tr><td>      </td><td>               </td><td style=\"text-align: right;\">           4</td></tr>\n",
       "<tr><td>Yes   </td><td>Yes            </td><td style=\"text-align: right;\">           5</td></tr>\n",
       "</tbody>\n",
       "</table>"
      ],
      "text/plain": [
       "'<table>\\n<thead>\\n<tr><th>AP_A  </th><th>AP_Principles  </th><th style=\"text-align: right;\">  difficulty</th></tr>\\n</thead>\\n<tbody>\\n<tr><td>      </td><td>               </td><td style=\"text-align: right;\">           5</td></tr>\\n<tr><td>      </td><td>               </td><td style=\"text-align: right;\">           3</td></tr>\\n<tr><td>      </td><td>               </td><td style=\"text-align: right;\">           5</td></tr>\\n<tr><td>      </td><td>               </td><td style=\"text-align: right;\">           6</td></tr>\\n<tr><td>      </td><td>               </td><td style=\"text-align: right;\">           4</td></tr>\\n<tr><td>Yes   </td><td>Yes            </td><td style=\"text-align: right;\">           5</td></tr>\\n</tbody>\\n</table>'"
      ]
     },
     "execution_count": 11,
     "metadata": {},
     "output_type": "execute_result"
    }
   ],
   "source": [
    "from data_utils import head, select, cs_course_response\n",
    "from tabulate import tabulate\n",
    "\n",
    "subset: dict[str, list[str]] = select(columns, [\"AP_A\", \"AP_Principles\", \"difficulty\"])\n",
    "\n",
    "tabulate(head(subset, 6), subset.keys(), \"html\")"
   ]
  },
  {
   "cell_type": "markdown",
   "metadata": {},
   "source": [
    "Since the AP columns correspond to optional question, there are a lot of blank spaces. I'm going to create a new table where in every row, at least one of the answers is \"yes.\" This is my helper function and I've included the first 10 rows."
   ]
  },
  {
   "cell_type": "code",
   "execution_count": 12,
   "metadata": {},
   "outputs": [
    {
     "data": {
      "text/html": [
       "<table>\n",
       "<thead>\n",
       "<tr><th>AP_A  </th><th>AP_Principles  </th><th style=\"text-align: right;\">  difficulty</th></tr>\n",
       "</thead>\n",
       "<tbody>\n",
       "<tr><td>Yes   </td><td>Yes            </td><td style=\"text-align: right;\">           5</td></tr>\n",
       "<tr><td>Yes   </td><td>No             </td><td style=\"text-align: right;\">           4</td></tr>\n",
       "<tr><td>Yes   </td><td>No             </td><td style=\"text-align: right;\">           2</td></tr>\n",
       "<tr><td>Yes   </td><td>No             </td><td style=\"text-align: right;\">           4</td></tr>\n",
       "<tr><td>Yes   </td><td>No             </td><td style=\"text-align: right;\">           4</td></tr>\n",
       "<tr><td>Yes   </td><td>Yes            </td><td style=\"text-align: right;\">           3</td></tr>\n",
       "<tr><td>Yes   </td><td>No             </td><td style=\"text-align: right;\">           3</td></tr>\n",
       "<tr><td>Yes   </td><td>Yes            </td><td style=\"text-align: right;\">           4</td></tr>\n",
       "<tr><td>Yes   </td><td>No             </td><td style=\"text-align: right;\">           5</td></tr>\n",
       "<tr><td>Yes   </td><td>No             </td><td style=\"text-align: right;\">           4</td></tr>\n",
       "</tbody>\n",
       "</table>"
      ],
      "text/plain": [
       "'<table>\\n<thead>\\n<tr><th>AP_A  </th><th>AP_Principles  </th><th style=\"text-align: right;\">  difficulty</th></tr>\\n</thead>\\n<tbody>\\n<tr><td>Yes   </td><td>Yes            </td><td style=\"text-align: right;\">           5</td></tr>\\n<tr><td>Yes   </td><td>No             </td><td style=\"text-align: right;\">           4</td></tr>\\n<tr><td>Yes   </td><td>No             </td><td style=\"text-align: right;\">           2</td></tr>\\n<tr><td>Yes   </td><td>No             </td><td style=\"text-align: right;\">           4</td></tr>\\n<tr><td>Yes   </td><td>No             </td><td style=\"text-align: right;\">           4</td></tr>\\n<tr><td>Yes   </td><td>Yes            </td><td style=\"text-align: right;\">           3</td></tr>\\n<tr><td>Yes   </td><td>No             </td><td style=\"text-align: right;\">           3</td></tr>\\n<tr><td>Yes   </td><td>Yes            </td><td style=\"text-align: right;\">           4</td></tr>\\n<tr><td>Yes   </td><td>No             </td><td style=\"text-align: right;\">           5</td></tr>\\n<tr><td>Yes   </td><td>No             </td><td style=\"text-align: right;\">           4</td></tr>\\n</tbody>\\n</table>'"
      ]
     },
     "execution_count": 12,
     "metadata": {},
     "output_type": "execute_result"
    }
   ],
   "source": [
    "from data_utils import cs_course_response\n",
    "\n",
    "cs_subset: dict[str, list[str]] = cs_course_response(subset, \"Yes\")\n",
    "\n",
    "tabulate(head(cs_subset, 10), cs_subset.keys(), \"html\")"
   ]
  },
  {
   "cell_type": "markdown",
   "metadata": {},
   "source": [
    "Finallly, I will count how many of these responses are rated < 4."
   ]
  },
  {
   "cell_type": "code",
   "execution_count": 13,
   "metadata": {},
   "outputs": [
    {
     "name": "stdout",
     "output_type": "stream",
     "text": [
      "1 = very easy\n",
      "7 = very hard\n",
      "Of the students 81 that took an AP course, 37 students rate COMP110 a 3 or below\n"
     ]
    }
   ],
   "source": [
    "from data_utils import count\n",
    "\n",
    "counts_difficulty = count(cs_subset['difficulty'])\n",
    "\n",
    "print(\"1 = very easy\")\n",
    "print(\"7 = very hard\")\n",
    "print(f\"Of the students {len(cs_subset['difficulty'])} that took an AP course, {counts_difficulty['1'] + counts_difficulty['2'] + counts_difficulty['3']} students rate COMP110 a 3 or below\")"
   ]
  },
  {
   "cell_type": "markdown",
   "metadata": {},
   "source": [
    "# Visual Number 1\n",
    "\n",
    "I will be using Seaborn for my visuals.\n",
    "\n",
    "My first visual will be a bar chart of the class difficulty based on all responses. \n",
    "The first code cell is the compilation of all difficulty data values. The second code cell will be the actual creation of the chart. \n"
   ]
  },
  {
   "cell_type": "code",
   "execution_count": 6,
   "metadata": {},
   "outputs": [
    {
     "data": {
      "text/html": [
       "<table>\n",
       "<thead>\n",
       "<tr><th style=\"text-align: right;\">  dif</th><th style=\"text-align: right;\">  student</th></tr>\n",
       "</thead>\n",
       "<tbody>\n",
       "<tr><td style=\"text-align: right;\">    1</td><td style=\"text-align: right;\">       11</td></tr>\n",
       "<tr><td style=\"text-align: right;\">    2</td><td style=\"text-align: right;\">       32</td></tr>\n",
       "<tr><td style=\"text-align: right;\">    3</td><td style=\"text-align: right;\">       54</td></tr>\n",
       "<tr><td style=\"text-align: right;\">    4</td><td style=\"text-align: right;\">      120</td></tr>\n",
       "<tr><td style=\"text-align: right;\">    5</td><td style=\"text-align: right;\">      158</td></tr>\n",
       "<tr><td style=\"text-align: right;\">    6</td><td style=\"text-align: right;\">      112</td></tr>\n",
       "<tr><td style=\"text-align: right;\">    7</td><td style=\"text-align: right;\">       86</td></tr>\n",
       "</tbody>\n",
       "</table>"
      ],
      "text/plain": [
       "'<table>\\n<thead>\\n<tr><th style=\"text-align: right;\">  dif</th><th style=\"text-align: right;\">  student</th></tr>\\n</thead>\\n<tbody>\\n<tr><td style=\"text-align: right;\">    1</td><td style=\"text-align: right;\">       11</td></tr>\\n<tr><td style=\"text-align: right;\">    2</td><td style=\"text-align: right;\">       32</td></tr>\\n<tr><td style=\"text-align: right;\">    3</td><td style=\"text-align: right;\">       54</td></tr>\\n<tr><td style=\"text-align: right;\">    4</td><td style=\"text-align: right;\">      120</td></tr>\\n<tr><td style=\"text-align: right;\">    5</td><td style=\"text-align: right;\">      158</td></tr>\\n<tr><td style=\"text-align: right;\">    6</td><td style=\"text-align: right;\">      112</td></tr>\\n<tr><td style=\"text-align: right;\">    7</td><td style=\"text-align: right;\">       86</td></tr>\\n</tbody>\\n</table>'"
      ]
     },
     "execution_count": 6,
     "metadata": {},
     "output_type": "execute_result"
    }
   ],
   "source": [
    "from data_utils import select, count\n",
    "\n",
    "difficulty: dict[str, list[str]] = select(columns, [\"difficulty\"])\n",
    "counts = count(subset['difficulty'])\n",
    "count_dict: dict[str, list[int]] = {'dif': [1, 2, 3, 4, 5, 6, 7], 'student': [(counts['1']), (counts['2']), (counts['3']), (counts['4']),(counts['5']), (counts['6']), (counts['7'])]}\n",
    "\n",
    "tabulate(count_dict, count_dict.keys(), \"html\")"
   ]
  },
  {
   "cell_type": "code",
   "execution_count": 14,
   "metadata": {},
   "outputs": [
    {
     "data": {
      "text/plain": [
       "Text(0, 0.5, 'Number of Students')"
      ]
     },
     "execution_count": 14,
     "metadata": {},
     "output_type": "execute_result"
    },
    {
     "data": {
      "image/png": "[encoded data removed]",
      "text/plain": [
       "<Figure size 432x288 with 1 Axes>"
      ]
     },
     "metadata": {},
     "output_type": "display_data"
    }
   ],
   "source": [
    "import seaborn as sns\n",
    "import matplotlib.pyplot as plt\n",
    "\n",
    "sns.set_theme(style = \"whitegrid\")\n",
    "\n",
    "sns.barplot(x = 'dif', y = 'student', data = count_dict).set_title(\"Perceived Difficulty of COMP 110\")\n",
    "plt.xlabel(\"<-- Least Difficult to Most Difficult -->\")\n",
    "plt.ylabel(\"Number of Students\")\n",
    "\n"
   ]
  },
  {
   "cell_type": "markdown",
   "metadata": {},
   "source": [
    "# Visual Number 2\n",
    "\n",
    "The second visual will be a bar chart of class difficulty according to the students who took AP classes."
   ]
  },
  {
   "cell_type": "code",
   "execution_count": 8,
   "metadata": {},
   "outputs": [
    {
     "data": {
      "text/plain": [
       "Text(0, 0.5, 'Number of Students')"
      ]
     },
     "execution_count": 8,
     "metadata": {},
     "output_type": "execute_result"
    },
    {
     "data": {
      "image/png": "[encoded data removed]",
      "text/plain": [
       "<Figure size 432x288 with 1 Axes>"
      ]
     },
     "metadata": {},
     "output_type": "display_data"
    }
   ],
   "source": [
    "import seaborn as sns\n",
    "from data_utils import select\n",
    "\n",
    "difficulty_ap: dict[str, list[str]] = select(cs_subset, [\"difficulty\"])\n",
    "counts_ap = count(cs_subset['difficulty'])\n",
    "count_dict_ap: dict[str, list[int]] = {'dif_ap': [1, 2, 3, 4, 5, 6, 7], 'student_ap': [(counts_ap['1']), (counts_ap['2']), (counts_ap['3']), (counts_ap['4']),(counts_ap['5']), (counts_ap['6']), (counts_ap['7'])]}\n",
    "\n",
    "sns.set_theme(style = \"whitegrid\")\n",
    "sns.barplot(x = 'dif_ap', y = 'student_ap', data = count_dict_ap).set_title(\"AP Classes, COMP 110 Difficulty\")\n",
    "plt.xlabel(\"<-- Least Difficult to Most Difficult -->\")\n",
    "plt.ylabel(\"Number of Students\")\n"
   ]
  },
  {
   "cell_type": "markdown",
   "metadata": {},
   "source": [
    "# Conclusion\n",
    "In conclusion, less then half of the AP students rated COMP110 a 3 or less in terms of difficulty. I personally did not take these AP classes so I do not know how the difficulty or material compares to this class. \n",
    "\n",
    "However, the visuals showed that those who took and AP class *did* rank the class difficulty lower than the overall class average. If I had changed my cut off to < 5, I would have seen that in my analysis.\n",
    "\n",
    "I also realized my hypothesis was based off the assumption that those who took an AP class did well. If someone didn't do well and/or didn't retain that information, it would make sense for them to also find COMP110 to be more difficult. I think it would be interesting to see how perceived AP difficulty compares to perceived COMP110 difficulty. "
   ]
  }
 ],
 "metadata": {
  "interpreter": {
   "hash": "aee8b7b246df8f9039afb4144a1f6fd8d2ca17a180786b69acc140d282b71a49"
  },
  "kernelspec": {
   "display_name": "Python 3.9.6 64-bit",
   "name": "python3"
  },
  "language_info": {
   "codemirror_mode": {
    "name": "ipython",
    "version": 3
   },
   "file_extension": ".py",
   "mimetype": "text/x-python",
   "name": "python",
   "nbconvert_exporter": "python",
   "pygments_lexer": "ipython3",
   "version": "3.9.6"
  },
  "orig_nbformat": 4
 },
 "nbformat": 4,
 "nbformat_minor": 2
}
